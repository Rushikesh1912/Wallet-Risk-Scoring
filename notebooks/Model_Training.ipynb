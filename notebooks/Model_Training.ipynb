{
 "cells": [
  {
   "cell_type": "code",
   "execution_count": 1,
   "id": "cbb3d68e",
   "metadata": {},
   "outputs": [],
   "source": [
    "import pandas as pd\n",
    "import numpy as np\n",
    "import seaborn as sns\n",
    "import matplotlib.pyplot as plt\n",
    "\n",
    "from sklearn.model_selection import train_test_split\n",
    "from sklearn.ensemble import RandomForestClassifier\n",
    "from sklearn.metrics import classification_report, confusion_matrix, accuracy_score\n",
    "\n",
    "import warnings\n",
    "warnings.filterwarnings('ignore')\n"
   ]
  },
  {
   "cell_type": "code",
   "execution_count": null,
   "id": "e97127fe",
   "metadata": {},
   "outputs": [
    {
     "data": {
      "text/html": [
       "<div>\n",
       "<style scoped>\n",
       "    .dataframe tbody tr th:only-of-type {\n",
       "        vertical-align: middle;\n",
       "    }\n",
       "\n",
       "    .dataframe tbody tr th {\n",
       "        vertical-align: top;\n",
       "    }\n",
       "\n",
       "    .dataframe thead th {\n",
       "        text-align: right;\n",
       "    }\n",
       "</style>\n",
       "<table border=\"1\" class=\"dataframe\">\n",
       "  <thead>\n",
       "    <tr style=\"text-align: right;\">\n",
       "      <th></th>\n",
       "      <th>tx_id</th>\n",
       "      <th>sender</th>\n",
       "      <th>receiver</th>\n",
       "      <th>amount</th>\n",
       "      <th>timestamp</th>\n",
       "      <th>type</th>\n",
       "      <th>status</th>\n",
       "    </tr>\n",
       "  </thead>\n",
       "  <tbody>\n",
       "    <tr>\n",
       "      <th>0</th>\n",
       "      <td>d83a431a-9113-4340-92ea-48fbdb0e4584</td>\n",
       "      <td>0x13b1c8b0e696aff8b4fee742119b549b605f3cbc</td>\n",
       "      <td>0xd0df53e296c1e3115fccc3d7cdf4ba495e593b56</td>\n",
       "      <td>3.5726</td>\n",
       "      <td>2024-11-19 11:58:33</td>\n",
       "      <td>mint</td>\n",
       "      <td>success</td>\n",
       "    </tr>\n",
       "    <tr>\n",
       "      <th>1</th>\n",
       "      <td>130fdce4-991c-4fbd-be33-fec25bd15da5</td>\n",
       "      <td>0x3e69ad05716bdc834db72c4d6d44439a7c8a902b</td>\n",
       "      <td>0x4814be124d7fe3b240eb46061f7ddfab468fe122</td>\n",
       "      <td>3.1927</td>\n",
       "      <td>2023-04-28 00:47:57</td>\n",
       "      <td>mint</td>\n",
       "      <td>success</td>\n",
       "    </tr>\n",
       "    <tr>\n",
       "      <th>2</th>\n",
       "      <td>c906a07a-0ab6-4732-bc3f-2e70a3e098d3</td>\n",
       "      <td>0x9ad1331c5b6c5a641acffb32719c66a80c6e1a17</td>\n",
       "      <td>0x578cea5f899b0dfbf05c7fbcfda1a644b2a47787</td>\n",
       "      <td>1.6672</td>\n",
       "      <td>2023-07-15 09:18:40</td>\n",
       "      <td>transfer</td>\n",
       "      <td>success</td>\n",
       "    </tr>\n",
       "    <tr>\n",
       "      <th>3</th>\n",
       "      <td>5ca8f003-7711-4123-a231-07023ef79ae6</td>\n",
       "      <td>0x7399dbeebe2f88bc6ac4e3fd7ddb836a4bce322f</td>\n",
       "      <td>0x7be3dfb5b6fcbae542ea85e76cc19916a20f6c1e</td>\n",
       "      <td>2.3793</td>\n",
       "      <td>2024-01-08 18:27:36</td>\n",
       "      <td>swap</td>\n",
       "      <td>failed</td>\n",
       "    </tr>\n",
       "    <tr>\n",
       "      <th>4</th>\n",
       "      <td>f5465e67-4c2d-479b-af3e-9e0a03e6ccd7</td>\n",
       "      <td>0x3867d222ba91236ad4d12c31056626f9e798629c</td>\n",
       "      <td>0xded1f838ae6aa5fcd0f13481b37ee88e5bdccb3d</td>\n",
       "      <td>2.8079</td>\n",
       "      <td>2025-02-06 11:35:19</td>\n",
       "      <td>swap</td>\n",
       "      <td>success</td>\n",
       "    </tr>\n",
       "  </tbody>\n",
       "</table>\n",
       "</div>"
      ],
      "text/plain": [
       "                                  tx_id  \\\n",
       "0  d83a431a-9113-4340-92ea-48fbdb0e4584   \n",
       "1  130fdce4-991c-4fbd-be33-fec25bd15da5   \n",
       "2  c906a07a-0ab6-4732-bc3f-2e70a3e098d3   \n",
       "3  5ca8f003-7711-4123-a231-07023ef79ae6   \n",
       "4  f5465e67-4c2d-479b-af3e-9e0a03e6ccd7   \n",
       "\n",
       "                                       sender  \\\n",
       "0  0x13b1c8b0e696aff8b4fee742119b549b605f3cbc   \n",
       "1  0x3e69ad05716bdc834db72c4d6d44439a7c8a902b   \n",
       "2  0x9ad1331c5b6c5a641acffb32719c66a80c6e1a17   \n",
       "3  0x7399dbeebe2f88bc6ac4e3fd7ddb836a4bce322f   \n",
       "4  0x3867d222ba91236ad4d12c31056626f9e798629c   \n",
       "\n",
       "                                     receiver  amount            timestamp  \\\n",
       "0  0xd0df53e296c1e3115fccc3d7cdf4ba495e593b56  3.5726  2024-11-19 11:58:33   \n",
       "1  0x4814be124d7fe3b240eb46061f7ddfab468fe122  3.1927  2023-04-28 00:47:57   \n",
       "2  0x578cea5f899b0dfbf05c7fbcfda1a644b2a47787  1.6672  2023-07-15 09:18:40   \n",
       "3  0x7be3dfb5b6fcbae542ea85e76cc19916a20f6c1e  2.3793  2024-01-08 18:27:36   \n",
       "4  0xded1f838ae6aa5fcd0f13481b37ee88e5bdccb3d  2.8079  2025-02-06 11:35:19   \n",
       "\n",
       "       type   status  \n",
       "0      mint  success  \n",
       "1      mint  success  \n",
       "2  transfer  success  \n",
       "3      swap   failed  \n",
       "4      swap  success  "
      ]
     },
     "execution_count": 2,
     "metadata": {},
     "output_type": "execute_result"
    }
   ],
   "source": [
    "df = pd.read_csv('../data/generated_transactions.csv')\n",
    "\n",
    "df.head()\n"
   ]
  },
  {
   "cell_type": "code",
   "execution_count": null,
   "id": "470bea58",
   "metadata": {},
   "outputs": [
    {
     "name": "stdout",
     "output_type": "stream",
     "text": [
      "Fraud counts:\n",
      " is_fraud\n",
      "0    3999\n",
      "1    1001\n",
      "Name: count, dtype: int64\n"
     ]
    }
   ],
   "source": [
    "df['is_fraud'] = np.where(df['type'] == 'contract', 1, 0) \n",
    "\n",
    "print(\"Fraud counts:\\n\", df['is_fraud'].value_counts())\n"
   ]
  },
  {
   "cell_type": "code",
   "execution_count": null,
   "id": "bb2b2ce3",
   "metadata": {},
   "outputs": [
    {
     "name": "stdout",
     "output_type": "stream",
     "text": [
      "Features used: ['amount', 'type_encoded', 'status_encoded']\n"
     ]
    }
   ],
   "source": [
    "df['type_encoded'] = df['type'].astype('category').cat.codes\n",
    "df['status_encoded'] = df['status'].astype('category').cat.codes\n",
    "\n",
    "features = ['amount', 'type_encoded', 'status_encoded']\n",
    "target = 'is_fraud'\n",
    "\n",
    "X = df[features]\n",
    "y = df[target]\n",
    "\n",
    "print(\"Features used:\", features)\n"
   ]
  },
  {
   "cell_type": "code",
   "execution_count": null,
   "id": "ab413b5d",
   "metadata": {},
   "outputs": [
    {
     "name": "stdout",
     "output_type": "stream",
     "text": [
      "Training samples: 4000\n",
      "Testing samples: 1000\n"
     ]
    }
   ],
   "source": [
    "X_train, X_test, y_train, y_test = train_test_split(\n",
    "    X, y, test_size=0.2, random_state=42, stratify=y\n",
    ")\n",
    "\n",
    "print(\"Training samples:\", len(X_train))\n",
    "print(\"Testing samples:\", len(X_test))\n"
   ]
  },
  {
   "cell_type": "code",
   "execution_count": null,
   "id": "eb6849e1",
   "metadata": {},
   "outputs": [],
   "source": [
    "model = RandomForestClassifier(n_estimators=100, random_state=42)\n",
    "model.fit(X_train, y_train)\n",
    "\n",
    "y_pred = model.predict(X_test)\n"
   ]
  },
  {
   "cell_type": "code",
   "execution_count": null,
   "id": "7ce509ee",
   "metadata": {},
   "outputs": [
    {
     "name": "stdout",
     "output_type": "stream",
     "text": [
      "Accuracy: 1.0\n",
      "\n",
      "Confusion Matrix:\n",
      " [[800   0]\n",
      " [  0 200]]\n",
      "\n",
      "Classification Report:\n",
      "               precision    recall  f1-score   support\n",
      "\n",
      "           0       1.00      1.00      1.00       800\n",
      "           1       1.00      1.00      1.00       200\n",
      "\n",
      "    accuracy                           1.00      1000\n",
      "   macro avg       1.00      1.00      1.00      1000\n",
      "weighted avg       1.00      1.00      1.00      1000\n",
      "\n"
     ]
    }
   ],
   "source": [
    "print(\"Accuracy:\", accuracy_score(y_test, y_pred))\n",
    "print(\"\\nConfusion Matrix:\\n\", confusion_matrix(y_test, y_pred))\n",
    "print(\"\\nClassification Report:\\n\", classification_report(y_test, y_pred))\n"
   ]
  },
  {
   "cell_type": "code",
   "execution_count": null,
   "id": "971fd1b3",
   "metadata": {},
   "outputs": [
    {
     "data": {
      "image/png": "[encoded data removed]",
      "text/plain": [
       "<Figure size 600x300 with 1 Axes>"
      ]
     },
     "metadata": {},
     "output_type": "display_data"
    }
   ],
   "source": [
    "importances = pd.Series(model.feature_importances_, index=features)\n",
    "importances.sort_values().plot(kind='barh', title='Feature Importances', figsize=(6, 3))\n",
    "plt.tight_layout()\n",
    "plt.show()\n"
   ]
  },
  {
   "cell_type": "code",
   "execution_count": null,
   "id": "b2b3e0b4",
   "metadata": {},
   "outputs": [
    {
     "name": "stdout",
     "output_type": "stream",
     "text": [
      "✅ Model saved to ../src/model_random_forest.pkl\n"
     ]
    }
   ],
   "source": [
    "import joblib\n",
    "joblib.dump(model, '../src/model_random_forest.pkl')\n",
    "print(\"✅ Model saved to ../src/model_random_forest.pkl\")\n"
   ]
  }
 ],
 "metadata": {
  "kernelspec": {
   "display_name": "gpu",
   "language": "python",
   "name": "python3"
  },
  "language_info": {
   "codemirror_mode": {
    "name": "ipython",
    "version": 3
   },
   "file_extension": ".py",
   "mimetype": "text/x-python",
   "name": "python",
   "nbconvert_exporter": "python",
   "pygments_lexer": "ipython3",
   "version": "3.9.21"
  }
 },
 "nbformat": 4,
 "nbformat_minor": 5
}
